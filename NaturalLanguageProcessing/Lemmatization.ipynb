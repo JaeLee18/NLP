{
 "cells": [
  {
   "cell_type": "code",
   "execution_count": 1,
   "metadata": {},
   "outputs": [],
   "source": [
    "import spacy"
   ]
  },
  {
   "cell_type": "code",
   "execution_count": 2,
   "metadata": {},
   "outputs": [],
   "source": [
    "nlp = spacy.load('en_core_web_sm')"
   ]
  },
  {
   "cell_type": "code",
   "execution_count": 3,
   "metadata": {},
   "outputs": [],
   "source": [
    "doc1 = nlp(u\"I am a runner running in a race because I love to run since I ran today\")"
   ]
  },
  {
   "cell_type": "code",
   "execution_count": 10,
   "metadata": {},
   "outputs": [
    {
     "name": "stdout",
     "output_type": "stream",
     "text": [
      "I \t PRON \t 561228191312463089 \t -PRON-\n",
      "am \t AUX \t 10382539506755952630 \t be\n",
      "a \t DET \t 11901859001352538922 \t a\n",
      "runner \t NOUN \t 12640964157389618806 \t runner\n",
      "running \t VERB \t 12767647472892411841 \t run\n",
      "in \t ADP \t 3002984154512732771 \t in\n",
      "a \t DET \t 11901859001352538922 \t a\n",
      "race \t NOUN \t 8048469955494714898 \t race\n",
      "because \t SCONJ \t 16950148841647037698 \t because\n",
      "I \t PRON \t 561228191312463089 \t -PRON-\n",
      "love \t VERB \t 3702023516439754181 \t love\n",
      "to \t PART \t 3791531372978436496 \t to\n",
      "run \t VERB \t 12767647472892411841 \t run\n",
      "since \t SCONJ \t 10066841407251338481 \t since\n",
      "I \t PRON \t 561228191312463089 \t -PRON-\n",
      "ran \t VERB \t 12767647472892411841 \t run\n",
      "today \t NOUN \t 11042482332948150395 \t today\n"
     ]
    }
   ],
   "source": [
    "for token in doc1:\n",
    "    print(token.text,'\\t',token.pos_,'\\t',token.lemma,'\\t',token.lemma_)"
   ]
  },
  {
   "cell_type": "code",
   "execution_count": 12,
   "metadata": {},
   "outputs": [],
   "source": [
    "def show_lemmas(text):\n",
    "    for token in text:\n",
    "        print(f'{token.text:{12}}  {token.pos_:{6}} {token.lemma:<{22}} {token.lemma_}')"
   ]
  },
  {
   "cell_type": "code",
   "execution_count": 13,
   "metadata": {},
   "outputs": [
    {
     "name": "stdout",
     "output_type": "stream",
     "text": [
      "I             PRON   561228191312463089     -PRON-\n",
      "am            AUX    10382539506755952630   be\n",
      "a             DET    11901859001352538922   a\n",
      "runner        NOUN   12640964157389618806   runner\n",
      "running       VERB   12767647472892411841   run\n",
      "in            ADP    3002984154512732771    in\n",
      "a             DET    11901859001352538922   a\n",
      "race          NOUN   8048469955494714898    race\n",
      "because       SCONJ  16950148841647037698   because\n",
      "I             PRON   561228191312463089     -PRON-\n",
      "love          VERB   3702023516439754181    love\n",
      "to            PART   3791531372978436496    to\n",
      "run           VERB   12767647472892411841   run\n",
      "since         SCONJ  10066841407251338481   since\n",
      "I             PRON   561228191312463089     -PRON-\n",
      "ran           VERB   12767647472892411841   run\n",
      "today         NOUN   11042482332948150395   today\n"
     ]
    }
   ],
   "source": [
    "show_lemmas(doc1)"
   ]
  },
  {
   "cell_type": "code",
   "execution_count": 14,
   "metadata": {},
   "outputs": [
    {
     "name": "stdout",
     "output_type": "stream",
     "text": [
      "{'my', 'regarding', 'made', 'also', 'beside', 'go', 'every', 'somehow', 'ours', 'was', 'yourselves', 'amount', 'anywhere', 'per', 'myself', 'in', 'least', 'several', 'thereafter', 'except', 'alone', 'becomes', 'everything', 'had', 'last', 'namely', 'a', 'herself', 'via', 'others', 'using', 'thru', 'you', 'an', 'due', 'further', 'full', 'say', 'part', 'at', 'around', 'i', 'everywhere', 'hereupon', 'for', 'eleven', 'fifty', 'please', 'does', 'and', 'enough', 'would', 'to', 'four', 'ever', 'top', 'formerly', 'eight', 'name', 'n‘t', 'whole', 'one', 'what', 'ca', 'wherever', 'seem', 'seeming', 'sixty', 'quite', 'however', 'same', 'there', 'through', 'than', 'between', 'cannot', 'empty', 'see', 'now', 'often', 'whither', 'some', 'none', 'where', 'afterwards', 'perhaps', '’s', \"'m\", 'upon', 'beforehand', 'on', 'whatever', 'get', 'six', 'before', 'during', 'together', 'less', 'becoming', 'they', 'himself', 'when', 'hereafter', 'toward', 'whereafter', 'various', 'but', 'such', 'whence', '’ll', 'nowhere', 'are', 'how', 'all', 'it', 'can', \"'re\", 'whom', 'behind', 'herein', 'well', 'did', 'move', 'something', 'if', 'bottom', 'their', 'five', 'anyway', 'otherwise', 'rather', 'twenty', 'with', 'already', 'ourselves', 'should', 'mostly', 'below', 'more', 'even', 'onto', 'everyone', 'amongst', 'beyond', 'thereupon', 'whoever', 'she', 'both', 'besides', 'not', 'another', 'fifteen', 'or', 'since', 'therefore', 'from', 'whether', 'noone', 'sometimes', 'latterly', 'anyone', 'across', 'so', 'itself', 'no', 'whereas', 'nothing', 're', 'make', 'therein', '‘ll', 'hereby', 'this', 'never', 'once', 'done', 'that', 'third', 'may', 'might', 'seems', 'up', 'whereupon', 'me', '’re', '‘s', '‘ve', 'first', 'serious', '’m', 'whose', 'anything', 'else', 'side', 'her', 'whenever', 'sometime', 'because', 'we', 'along', 'few', 'become', 'us', 'give', 'nobody', 'hence', 'here', 'doing', 'three', 'after', 'nine', 'keep', \"'ll\", 'about', 'still', 'too', 'his', 'take', 'neither', 'used', 'them', 'wherein', 'call', 'show', '‘m', 'towards', 'out', 'why', 'yours', 'indeed', 'under', 'whereby', 'throughout', 'thereby', 'must', 'who', 'into', 'mine', 'most', \"'s\", 'just', 'is', 'been', 'by', 'am', 'among', 'your', 'became', 'two', 'over', '‘d', 'former', 'either', \"n't\", \"'d\", 'our', 'could', 'until', 'many', 'latter', 'within', 'while', 'any', 'again', 'each', 'against', 'hundred', 'he', 'forty', 'has', 'next', 'down', 'without', 'put', 'of', '’ve', 'meanwhile', 'thus', 'do', 'him', 'thence', 'nor', 'themselves', 'twelve', 'moreover', 'which', 'almost', 'ten', 'those', 'be', 'as', 'off', 'other', 'above', 'own', 'much', 'always', 'somewhere', 'though', \"'ve\", 'anyhow', 'n’t', 'only', '’d', 'hers', 'nevertheless', 'the', 'elsewhere', 'being', 'although', 'seemed', '‘re', 'yet', 'have', 'front', 'will', 'unless', 'really', 'its', 'these', 'back', 'someone', 'very', 'were', 'then', 'yourself'}\n"
     ]
    }
   ],
   "source": [
    "print(nlp.Defaults.stop_words)"
   ]
  },
  {
   "cell_type": "code",
   "execution_count": 15,
   "metadata": {},
   "outputs": [
    {
     "data": {
      "text/plain": [
       "326"
      ]
     },
     "execution_count": 15,
     "metadata": {},
     "output_type": "execute_result"
    }
   ],
   "source": [
    "len(nlp.Defaults.stop_words)"
   ]
  },
  {
   "cell_type": "code",
   "execution_count": 16,
   "metadata": {},
   "outputs": [
    {
     "data": {
      "text/plain": [
       "True"
      ]
     },
     "execution_count": 16,
     "metadata": {},
     "output_type": "execute_result"
    }
   ],
   "source": [
    "nlp.vocab['is'].is_stop"
   ]
  },
  {
   "cell_type": "code",
   "execution_count": 17,
   "metadata": {},
   "outputs": [
    {
     "data": {
      "text/plain": [
       "False"
      ]
     },
     "execution_count": 17,
     "metadata": {},
     "output_type": "execute_result"
    }
   ],
   "source": [
    "nlp.vocab['hello'].is_stop"
   ]
  },
  {
   "cell_type": "code",
   "execution_count": 18,
   "metadata": {},
   "outputs": [],
   "source": [
    "nlp.Defaults.stop_words.add('btw')"
   ]
  },
  {
   "cell_type": "code",
   "execution_count": 19,
   "metadata": {},
   "outputs": [],
   "source": [
    "nlp.vocab['btw'].is_stop = True"
   ]
  },
  {
   "cell_type": "code",
   "execution_count": 20,
   "metadata": {},
   "outputs": [
    {
     "data": {
      "text/plain": [
       "327"
      ]
     },
     "execution_count": 20,
     "metadata": {},
     "output_type": "execute_result"
    }
   ],
   "source": [
    "len(nlp.Defaults.stop_words)"
   ]
  },
  {
   "cell_type": "code",
   "execution_count": 21,
   "metadata": {},
   "outputs": [
    {
     "data": {
      "text/plain": [
       "True"
      ]
     },
     "execution_count": 21,
     "metadata": {},
     "output_type": "execute_result"
    }
   ],
   "source": [
    "nlp.vocab['btw'].is_stop"
   ]
  },
  {
   "cell_type": "code",
   "execution_count": null,
   "metadata": {},
   "outputs": [],
   "source": []
  }
 ],
 "metadata": {
  "kernelspec": {
   "display_name": "Python 3",
   "language": "python",
   "name": "python3"
  },
  "language_info": {
   "codemirror_mode": {
    "name": "ipython",
    "version": 3
   },
   "file_extension": ".py",
   "mimetype": "text/x-python",
   "name": "python",
   "nbconvert_exporter": "python",
   "pygments_lexer": "ipython3",
   "version": "3.7.7"
  }
 },
 "nbformat": 4,
 "nbformat_minor": 4
}
